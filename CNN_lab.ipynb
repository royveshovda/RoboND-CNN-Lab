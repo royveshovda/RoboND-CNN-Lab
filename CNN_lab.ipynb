{
 "cells": [
  {
   "cell_type": "markdown",
   "metadata": {
    "collapsed": true
   },
   "source": [
    "# Image Classification\n",
    "In this lab, you'll classify images from the [Fashion-MNIST dataset](https://github.com/zalandoresearch/fashion-mnist#get-the-data).  The dataset consists of different types of clothing items such as shirts, trousers, sneakers etc. You'll preprocess the images, then train a convolutional neural network on all the samples. The images need to be normalized and the labels need to be one-hot encoded.  You'll get to apply what you learned and build a model with convolutional, max pooling, dropout, and fully connected layers.  At the end, you'll get to see your neural network's predictions on the sample images.\n",
    "## Get the Data\n",
    "We have provided you with a pickle file for the dataset available in the GitHub repo. We have provided with a script - helper.py, which extracts the dataset for you when the corresponding functions are called."
   ]
  },
  {
   "cell_type": "markdown",
   "metadata": {},
   "source": [
    "## Explore the Data\n",
    "The Fashion-MNIST dataset consists of a training set of 60,000 examples and a test set of 10,000 examples. Each example is a 28x28 grayscale image, associated with a label from the following 10 classes:\n",
    "\n",
    "* T-shirt/top\n",
    "* Trouser\n",
    "* Pullover\n",
    "* Dress\n",
    "* Coat\n",
    "* Sandal\n",
    "* Shirt\n",
    "* Sneaker\n",
    "* Bag\n",
    "* Ankle boot\n",
    "\n",
    "Understanding a dataset is part of making predictions on the data.  Play around with the code cell below by changing the `sample_id`. The `sample_id` is the id for a image and label pair in the dataset.\n",
    "\n",
    "Ask yourself \"What are all possible labels?\", \"What is the range of values for the image data?\", \"Are the labels in order or random?\".  Answers to questions like these will help you preprocess the data and end up with better predictions."
   ]
  },
  {
   "cell_type": "code",
   "execution_count": 1,
   "metadata": {},
   "outputs": [
    {
     "name": "stdout",
     "output_type": "stream",
     "text": [
      "Samples: 60000\n",
      "Label Counts: {0: 6000, 1: 6000, 2: 6000, 3: 6000, 4: 6000, 5: 6000, 6: 6000, 7: 6000, 8: 6000, 9: 6000}\n",
      "First 20 Labels: [9 0 0 3 0 2 7 2 5 5 0 9 5 5 7 9 1 0 6 4]\n",
      "\n",
      "Example of Image 6:\n",
      "Image - Min Value: 0 Max Value: 255\n",
      "Image - Shape: (28, 28, 1)\n",
      "Label - Label Id: 7 Name: sneaker\n"
     ]
    },
    {
     "data": {
      "image/png": "[encoded data removed]",
      "text/plain": [
       "<matplotlib.figure.Figure at 0x7f85f83a92e8>"
      ]
     },
     "metadata": {
      "image/png": {
       "height": 250,
       "width": 253
      }
     },
     "output_type": "display_data"
    }
   ],
   "source": [
    "%matplotlib inline\n",
    "%config InlineBackend.figure_format = 'retina'\n",
    "\n",
    "import helper\n",
    "import numpy as np\n",
    "\n",
    "import pickle\n",
    "\n",
    "filename = \"fashion-mnist.p\"\n",
    "\n",
    "# Explore the dataset\n",
    "sample_id = 6\n",
    "helper.display_stats(filename, sample_id)"
   ]
  },
  {
   "cell_type": "markdown",
   "metadata": {},
   "source": [
    "## Implement Preprocess Functions\n",
    "### Normalize\n",
    "In the cell below, implement the `normalize` function to take in image data, `x`, and return it as a normalized Numpy array. The values should be in the range of 0 to 1, inclusive.  The return object should be the same shape as `x`."
   ]
  },
  {
   "cell_type": "code",
   "execution_count": 2,
   "metadata": {},
   "outputs": [
    {
     "name": "stdout",
     "output_type": "stream",
     "text": [
      "Tests Passed\n"
     ]
    }
   ],
   "source": [
    "import problem_unittests as tests\n",
    "def normalize(x):\n",
    "    \"\"\"\n",
    "    Normalize a list of sample image data in the range of 0 to 1\n",
    "    : x: List of image data.  The image shape is (28, 28, 1)\n",
    "    : return: Numpy array of normalize data\n",
    "    \"\"\"\n",
    "    # TODO: Implement Function\n",
    "    \n",
    "    return x/255.0\n",
    "\n",
    "\n",
    "\"\"\"\n",
    "DON'T MODIFY ANYTHING IN THIS CELL THAT IS BELOW THIS LINE\n",
    "\"\"\"\n",
    "tests.test_normalize(normalize)"
   ]
  },
  {
   "cell_type": "markdown",
   "metadata": {},
   "source": [
    "### One-hot encode\n",
    "Just like the previous code cell, you'll be implementing a function for preprocessing.  This time, you'll implement the `one_hot_encode` function. The input, `x`, are a list of labels.  Implement the function to return the list of labels as One-Hot encoded Numpy array.  The possible values for labels are 0 to 9. The one-hot encoding function should return the same encoding for each value between each call to `one_hot_encode`.  Make sure to save the map of encodings outside the function.\n",
    "\n",
    "Hint: Don't reinvent the wheel. You have multiple ways to attempt this: Numpy, TF, or even sklearn's preprocessing package."
   ]
  },
  {
   "cell_type": "code",
   "execution_count": 3,
   "metadata": {},
   "outputs": [
    {
     "name": "stdout",
     "output_type": "stream",
     "text": [
      "Tests Passed\n"
     ]
    }
   ],
   "source": [
    "def one_hot_encode(x):\n",
    "    \"\"\"\n",
    "    One hot encode a list of sample labels. Return a one-hot encoded vector for each label.\n",
    "    : x: List of sample Labels\n",
    "    : return: Numpy array of one-hot encoded labels\n",
    "    \"\"\"\n",
    "    # TODO: Implement Function\n",
    "    \n",
    "    encodings = np.zeros((len(x), 10))\n",
    "    for i, l in enumerate(x):\n",
    "        encodings[i][l] = 1.\n",
    "    return encodings\n",
    "\n",
    "\n",
    "\"\"\"\n",
    "DON'T MODIFY ANYTHING IN THIS CELL THAT IS BELOW THIS LINE\n",
    "\"\"\"\n",
    "tests.test_one_hot_encode(one_hot_encode)"
   ]
  },
  {
   "cell_type": "markdown",
   "metadata": {},
   "source": [
    "### Randomize Data\n",
    "As you saw from exploring the data above, the order of the samples are randomized.  It doesn't hurt to randomize it again, but you don't need to for this dataset."
   ]
  },
  {
   "cell_type": "markdown",
   "metadata": {},
   "source": [
    "## Preprocess all the data and save it\n",
    "Running the code cell below will preprocess all the Fashion-MNIST data and save it to file. The code below also uses 10% of the training data for validation."
   ]
  },
  {
   "cell_type": "code",
   "execution_count": 4,
   "metadata": {
    "collapsed": true
   },
   "outputs": [],
   "source": [
    "\"\"\"\n",
    "DON'T MODIFY ANYTHING IN THIS CELL\n",
    "\"\"\"\n",
    "# Preprocess Training, Validation, and Testing Data\n",
    "helper.preprocess_and_save_data(filename, normalize, one_hot_encode)"
   ]
  },
  {
   "cell_type": "markdown",
   "metadata": {},
   "source": [
    "# Check Point\n",
    "This is your first checkpoint.  If you ever decide to come back to this notebook or have to restart the notebook, you can start from here.  The preprocessed data has been saved to disk."
   ]
  },
  {
   "cell_type": "code",
   "execution_count": 5,
   "metadata": {
    "collapsed": true
   },
   "outputs": [],
   "source": [
    "\"\"\"\n",
    "DON'T MODIFY ANYTHING IN THIS CELL\n",
    "\"\"\"\n",
    "import pickle\n",
    "import problem_unittests as tests\n",
    "import helper\n",
    "\n",
    "# Load the Preprocessed Validation data\n",
    "valid_features, valid_labels = pickle.load(open('preprocess_validation.p', mode='rb'))"
   ]
  },
  {
   "cell_type": "markdown",
   "metadata": {},
   "source": [
    "## Build the network\n",
    "For the neural network, you'll build each layer into a function.  Most of the code you've seen has been outside of functions. To test your code more thoroughly, we require that you put each layer in a function.  This allows us to give you better feedback and test for simple mistakes using our unittests.\n",
    "\n",
    "Let's begin!\n",
    "\n",
    "### Input\n",
    "The neural network needs to read the image data, one-hot encoded labels, and dropout keep probability. Implement the following functions\n",
    "* Implement `neural_net_image_input`\n",
    " * Return a [TF Placeholder](https://www.tensorflow.org/api_docs/python/tf/placeholder)\n",
    " * Set the shape using `image_shape` with batch size set to `None`.\n",
    " * Name the TensorFlow placeholder \"x\" using the TensorFlow `name` parameter in the [TF Placeholder](https://www.tensorflow.org/api_docs/python/tf/placeholder).\n",
    "* Implement `neural_net_label_input`\n",
    " * Return a [TF Placeholder](https://www.tensorflow.org/api_docs/python/tf/placeholder)\n",
    " * Set the shape using `n_classes` with batch size set to `None`.\n",
    " * Name the TensorFlow placeholder \"y\" using the TensorFlow `name` parameter in the [TF Placeholder](https://www.tensorflow.org/api_docs/python/tf/placeholder).\n",
    "* Implement `neural_net_keep_prob_input`\n",
    " * Return a [TF Placeholder](https://www.tensorflow.org/api_docs/python/tf/placeholder) for dropout keep probability.\n",
    " * Name the TensorFlow placeholder \"keep_prob\" using the TensorFlow `name` parameter in the [TF Placeholder](https://www.tensorflow.org/api_docs/python/tf/placeholder).\n",
    "\n",
    "These names will be used at the end of the lab to load your saved model.\n",
    "\n",
    "Note: `None` for shapes in TensorFlow allow for a dynamic size."
   ]
  },
  {
   "cell_type": "code",
   "execution_count": 6,
   "metadata": {},
   "outputs": [
    {
     "name": "stdout",
     "output_type": "stream",
     "text": [
      "Image Input Tests Passed.\n",
      "Label Input Tests Passed.\n",
      "Keep Prob Tests Passed.\n"
     ]
    }
   ],
   "source": [
    "import tensorflow as tf\n",
    "\n",
    "def neural_net_image_input(image_shape):\n",
    "    \"\"\"\n",
    "    Return a Tensor for a batch of image input\n",
    "    : image_shape: Shape of the images\n",
    "    : return: Tensor for image input.\n",
    "    \"\"\"\n",
    "    # TODO: Implement Function\n",
    "    \n",
    "    return tf.placeholder(tf.float32,[None, image_shape[0], image_shape[1], image_shape[2]], name='x')\n",
    "\n",
    "\n",
    "def neural_net_label_input(n_classes):\n",
    "    \"\"\"\n",
    "    Return a Tensor for a batch of label input\n",
    "    : n_classes: Number of classes\n",
    "    : return: Tensor for label input.\n",
    "    \"\"\"\n",
    "    # TODO: Implement Function\n",
    "    \n",
    "    return tf.placeholder(tf.float32, [None, n_classes], name=\"y\")\n",
    "\n",
    "\n",
    "def neural_net_keep_prob_input():\n",
    "    \"\"\"\n",
    "    Return a Tensor for keep probability\n",
    "    : return: Tensor for keep probability.\n",
    "    \"\"\"\n",
    "    # TODO: Implement Function\n",
    "    \n",
    "    return tf.placeholder(tf.float32, name=\"keep_prob\")\n",
    "\n",
    "\n",
    "\"\"\"\n",
    "DON'T MODIFY ANYTHING IN THIS CELL THAT IS BELOW THIS LINE\n",
    "\"\"\"\n",
    "tf.reset_default_graph()\n",
    "tests.test_nn_image_inputs(neural_net_image_input)\n",
    "tests.test_nn_label_inputs(neural_net_label_input)\n",
    "tests.test_nn_keep_prob_inputs(neural_net_keep_prob_input)"
   ]
  },
  {
   "cell_type": "markdown",
   "metadata": {},
   "source": [
    "### Convolution and Max Pooling Layer\n",
    "Convolution layers have a lot of success with images. For this code cell, you should implement the function `conv2d_maxpool` to apply convolution then max pooling:\n",
    "* Create the weight and bias using `conv_ksize`, `conv_num_outputs` and the shape of `x_tensor`.\n",
    "* Apply a convolution to `x_tensor` using weight and `conv_strides`.\n",
    " * We recommend you use same padding, but you're welcome to use any padding.\n",
    "* Add bias\n",
    "* Add a nonlinear activation to the convolution.\n",
    "* Apply Max Pooling using `pool_ksize` and `pool_strides`.\n",
    " * We recommend you use same padding, but you're welcome to use any padding."
   ]
  },
  {
   "cell_type": "code",
   "execution_count": 7,
   "metadata": {},
   "outputs": [
    {
     "name": "stdout",
     "output_type": "stream",
     "text": [
      "Tests Passed\n"
     ]
    }
   ],
   "source": [
    "def conv2d_maxpool(x_tensor, conv_num_outputs, conv_ksize, conv_strides, pool_ksize, pool_strides):\n",
    "    \"\"\"\n",
    "    Apply convolution then max pooling to x_tensor\n",
    "    :param x_tensor: TensorFlow Tensor\n",
    "    :param conv_num_outputs: Number of outputs for the convolutional layer\n",
    "    :param conv_ksize: kernal size 2-D Tuple for the convolutional layer\n",
    "    :param conv_strides: Stride 2-D Tuple for convolution\n",
    "    :param pool_ksize: kernal size 2-D Tuple for pool\n",
    "    :param pool_strides: Stride 2-D Tuple for pool\n",
    "    : return: A tensor that represents convolution and max pooling of x_tensor\n",
    "    \"\"\"\n",
    "    # TODO: Implement Function\n",
    "    \n",
    "    mu = 0\n",
    "    sigma = 0.1\n",
    "    #convolution kernel size\n",
    "    conv_h,conv_w = conv_ksize\n",
    "    #output depth \n",
    "    output_depth = conv_num_outputs\n",
    "    #get [B,H,W,C] size, in_batch, in_height, in_weight, & in_depth\n",
    "    in_b, in_h, in_w, in_depth = x_tensor.shape\n",
    "    #weights\n",
    "    shape=(int(conv_h), int(conv_w), int(in_depth), int(output_depth))\n",
    "    F_W = tf.Variable(tf.truncated_normal(shape=shape, mean = mu, stddev = sigma))\n",
    "    #bias\n",
    "    F_B = tf.Variable(tf.zeros([int(output_depth)]))\n",
    "    s_h,s_w = conv_strides\n",
    "    padding = 'SAME'\n",
    "    conv = tf.nn.conv2d(x_tensor, F_W, strides=[1, int(s_h), int(s_w), 1], padding=padding) + F_B\n",
    "    conv = tf.nn.relu(conv)\n",
    "    pool_h, pool_w = pool_ksize\n",
    "    pool_h_s,pool_w_s = pool_strides\n",
    "    conv = tf.nn.max_pool(conv, ksize=[1, pool_h, pool_w, 1],strides=[1, pool_h_s, pool_w_s, 1],padding=padding)\n",
    "    return conv\n",
    "\n",
    "\n",
    "\"\"\"\n",
    "DON'T MODIFY ANYTHING IN THIS CELL THAT IS BELOW THIS LINE\n",
    "\"\"\"\n",
    "tests.test_con_pool(conv2d_maxpool)"
   ]
  },
  {
   "cell_type": "markdown",
   "metadata": {},
   "source": [
    "### Flatten Layer\n",
    "Implement the `flatten` function to change the dimension of `x_tensor` from a 4-D tensor to a 2-D tensor.  The output should be the shape (*Batch Size*, *Flattened Image Size*). \n",
    "\n",
    "Shortcut Option: you can use classes from the [TensorFlow Layers](https://www.tensorflow.org/api_docs/python/tf/layers) or [TensorFlow Layers (contrib)](https://www.tensorflow.org/api_guides/python/contrib.layers) packages for this layer which help with some high-level features. For more of a challenge, only use other TensorFlow packages."
   ]
  },
  {
   "cell_type": "code",
   "execution_count": 8,
   "metadata": {},
   "outputs": [
    {
     "name": "stdout",
     "output_type": "stream",
     "text": [
      "Tests Passed\n"
     ]
    }
   ],
   "source": [
    "def flatten(x_tensor):\n",
    "    \"\"\"\n",
    "    Flatten x_tensor to (Batch Size, Flattened Image Size)\n",
    "    : x_tensor: A tensor of size (Batch Size, ...), where ... are the image dimensions.\n",
    "    : return: A tensor of size (Batch Size, Flattened Image Size).\n",
    "    \"\"\"\n",
    "    # TODO: Implement Function\n",
    "    \n",
    "    return tf.reshape(x_tensor, [-1, int(x_tensor.shape[1])*int(x_tensor.shape[2])*int(x_tensor.shape[3])])\n",
    "\n",
    "\n",
    "\"\"\"\n",
    "DON'T MODIFY ANYTHING IN THIS CELL THAT IS BELOW THIS LINE\n",
    "\"\"\"\n",
    "tests.test_flatten(flatten)"
   ]
  },
  {
   "cell_type": "markdown",
   "metadata": {},
   "source": [
    "### Fully-Connected Layer\n",
    "Implement the `fully_conn` function to apply a fully connected layer to `x_tensor` with the shape (*Batch Size*, *num_outputs*). \n",
    "\n",
    "Shortcut option: you can use classes from the [TensorFlow Layers](https://www.tensorflow.org/api_docs/python/tf/layers) or [TensorFlow Layers (contrib)](https://www.tensorflow.org/api_guides/python/contrib.layers) packages for this layer. For more of a challenge, only use other TensorFlow packages."
   ]
  },
  {
   "cell_type": "code",
   "execution_count": 9,
   "metadata": {},
   "outputs": [
    {
     "name": "stdout",
     "output_type": "stream",
     "text": [
      "Tests Passed\n"
     ]
    }
   ],
   "source": [
    "def fully_conn(x_tensor, num_outputs):\n",
    "    \"\"\"\n",
    "    Apply a fully connected layer to x_tensor using weight and bias\n",
    "    : x_tensor: A 2-D tensor where the first dimension is batch size.\n",
    "    : num_outputs: The number of output that the new tensor should be.\n",
    "    : return: A 2-D tensor where the second dimension is num_outputs.\n",
    "    \"\"\"\n",
    "    # TODO: Implement Function\n",
    "    \n",
    "    mu = 0\n",
    "    sigma = 0.1\n",
    "    shape=(x_tensor.get_shape().as_list()[1], num_outputs)\n",
    "    w = tf.Variable(tf.random_normal(shape = shape, mean = mu, stddev = sigma))\n",
    "    b = tf.Variable(tf.zeros([num_outputs]))\n",
    "    y = tf.nn.relu(tf.add(tf.matmul(x_tensor, w), b))\n",
    "    return y\n",
    "\n",
    "\n",
    "\"\"\"\n",
    "DON'T MODIFY ANYTHING IN THIS CELL THAT IS BELOW THIS LINE\n",
    "\"\"\"\n",
    "tests.test_fully_conn(fully_conn)"
   ]
  },
  {
   "cell_type": "markdown",
   "metadata": {},
   "source": [
    "### Output Layer\n",
    "Implement the `output` function to apply a fully connected layer to `x_tensor` with the shape (*Batch Size*, *num_outputs*). \n",
    "\n",
    "Shortcut option: you can use classes from the [TensorFlow Layers](https://www.tensorflow.org/api_docs/python/tf/layers) or [TensorFlow Layers (contrib)](https://www.tensorflow.org/api_guides/python/contrib.layers) packages for this layer. For more of a challenge, only use other TensorFlow packages.\n",
    "\n",
    "**Note:** Activation, softmax, or cross entropy should **not** be applied to this."
   ]
  },
  {
   "cell_type": "code",
   "execution_count": 10,
   "metadata": {},
   "outputs": [
    {
     "name": "stdout",
     "output_type": "stream",
     "text": [
      "Tests Passed\n"
     ]
    }
   ],
   "source": [
    "\n",
    "def output(x_tensor, num_outputs):\n",
    "    \"\"\"\n",
    "    Apply a output layer to x_tensor using weight and bias\n",
    "    : x_tensor: A 2-D tensor where the first dimension is batch size.\n",
    "    : num_outputs: The number of output that the new tensor should be.\n",
    "    : return: A 2-D tensor where the second dimension is num_outputs.\n",
    "    \"\"\"\n",
    "    # TODO: Implement Function\n",
    "    \n",
    "    mu = 0\n",
    "    sigma = 0.1\n",
    "    shape = (x_tensor.get_shape().as_list()[1], num_outputs)\n",
    "    w = tf.Variable(tf.random_normal(shape = shape, mean = mu, stddev = sigma))\n",
    "    b = tf.Variable(tf.random_normal([num_outputs]))\n",
    "    y = tf.add(tf.matmul(x_tensor, w), b)\n",
    "    return y\n",
    "\n",
    "\n",
    "\"\"\"\n",
    "DON'T MODIFY ANYTHING IN THIS CELL THAT IS BELOW THIS LINE\n",
    "\"\"\"\n",
    "tests.test_output(output)"
   ]
  },
  {
   "cell_type": "markdown",
   "metadata": {},
   "source": [
    "### Create Convolutional Model\n",
    "Implement the function `conv_net` to create a convolutional neural network model. The function takes in a batch of images, `x`, and outputs logits.  Use the layers you created above to create this model:\n",
    "\n",
    "* Apply 1, 2, or 3 Convolution and Max Pool layers\n",
    "* Apply a Flatten Layer\n",
    "* Apply 1, 2, or 3 Fully Connected Layers\n",
    "* Apply an Output Layer\n",
    "* Return the output\n",
    "* Apply [TensorFlow's Dropout](https://www.tensorflow.org/api_docs/python/tf/nn/dropout) to one or more layers in the model using `keep_prob`. "
   ]
  },
  {
   "cell_type": "code",
   "execution_count": 11,
   "metadata": {},
   "outputs": [
    {
     "name": "stdout",
     "output_type": "stream",
     "text": [
      "Neural Network Built!\n"
     ]
    }
   ],
   "source": [
    "def conv_net(x, keep_prob):\n",
    "    \"\"\"\n",
    "    Create a convolutional neural network model\n",
    "    : x: Placeholder tensor that holds image data.\n",
    "    : keep_prob: Placeholder tensor that hold dropout keep probability.\n",
    "    : return: Tensor that represents logits\n",
    "    \"\"\"\n",
    "    # TODO: Apply 1, 2, or 3 Convolution and Max Pool layers\n",
    "    #    Play around with different number of outputs, kernel size and stride\n",
    "    # Function Definition from Above:\n",
    "    #    conv2d_maxpool(x_tensor, conv_num_outputs, conv_ksize, conv_strides, pool_ksize, pool_strides)\n",
    "    conv1 = conv2d_maxpool(x_tensor=x,\n",
    "                           conv_num_outputs=6,\n",
    "                           conv_ksize=(5,5),\n",
    "                           conv_strides=(1,1),\n",
    "                           pool_ksize=(2,2),\n",
    "                           pool_strides=(2,2))\n",
    "    \n",
    "    conv2 = conv2d_maxpool(x_tensor=conv1,\n",
    "                           conv_num_outputs=16,\n",
    "                           conv_ksize=(5,5),\n",
    "                           conv_strides=(1,1),\n",
    "                           pool_ksize=(2,2),\n",
    "                           pool_strides=(2,2))\n",
    "    \n",
    "    # TODO: Apply a Flatten Layer\n",
    "    # Function Definition from Above:\n",
    "    #   flatten(x_tensor)\n",
    "    flat_layer = flatten(conv2)\n",
    "\n",
    "    # TODO: Apply 1, 2, or 3 Fully Connected Layers\n",
    "    #    Play around with different number of outputs\n",
    "    # Function Definition from Above:\n",
    "    #   fully_conn(x_tensor, num_outputs)\n",
    "    fc1 = fully_conn(flat_layer, 120)\n",
    "    fc1 = tf.nn.dropout(fc1, keep_prob)\n",
    "    \n",
    "    fc2 = fully_conn(fc1, 84)\n",
    "    fc2 = tf.nn.dropout(fc2, keep_prob)\n",
    "    \n",
    "    # TODO: Apply an Output Layer\n",
    "    #    Set this to the number of classes\n",
    "    # Function Definition from Above:\n",
    "    #   output(x_tensor, num_outputs)\n",
    "    output_layer = output(fc2, 10)\n",
    "    \n",
    "    # TODO: return output\n",
    "    return output_layer\n",
    "\n",
    "\n",
    "\"\"\"\n",
    "DON'T MODIFY ANYTHING IN THIS CELL THAT IS BELOW THIS LINE\n",
    "\"\"\"\n",
    "\n",
    "##############################\n",
    "## Build the Neural Network ##\n",
    "##############################\n",
    "\n",
    "# Remove previous weights, bias, inputs, etc..\n",
    "tf.reset_default_graph()\n",
    "\n",
    "# Inputs\n",
    "x = neural_net_image_input((28, 28, 1))\n",
    "y = neural_net_label_input(10)\n",
    "keep_prob = neural_net_keep_prob_input()\n",
    "\n",
    "# Model\n",
    "logits = conv_net(x, keep_prob)\n",
    "\n",
    "# Name logits Tensor, so that is can be loaded from disk after training\n",
    "logits = tf.identity(logits, name='logits')\n",
    "\n",
    "# Loss and Optimizer\n",
    "cost = tf.reduce_mean(tf.nn.softmax_cross_entropy_with_logits(logits=logits, labels=y))\n",
    "optimizer = tf.train.AdamOptimizer().minimize(cost)\n",
    "\n",
    "# Accuracy\n",
    "correct_pred = tf.equal(tf.argmax(logits, 1), tf.argmax(y, 1))\n",
    "accuracy = tf.reduce_mean(tf.cast(correct_pred, tf.float32), name='accuracy')\n",
    "\n",
    "tests.test_conv_net(conv_net)"
   ]
  },
  {
   "cell_type": "markdown",
   "metadata": {},
   "source": [
    "## Train the Neural Network\n",
    "### Single Optimization\n",
    "Implement the function `train_neural_network` to do a single optimization.  The optimization should use `optimizer` to optimize in `session` with a `feed_dict` of the following:\n",
    "* `x` for image input\n",
    "* `y` for labels\n",
    "* `keep_prob` for keep probability for dropout\n",
    "\n",
    "This function will be called for each batch, so `tf.global_variables_initializer()` has already been called.\n",
    "\n",
    "Note: Nothing needs to be returned. This function is only optimizing the neural network."
   ]
  },
  {
   "cell_type": "code",
   "execution_count": 12,
   "metadata": {},
   "outputs": [
    {
     "name": "stdout",
     "output_type": "stream",
     "text": [
      "Tests Passed\n"
     ]
    }
   ],
   "source": [
    "\n",
    "def train_neural_network(session, optimizer, keep_probability, feature_batch, label_batch):\n",
    "    \"\"\"\n",
    "    Optimize the session on a batch of images and labels\n",
    "    : session: Current TensorFlow session\n",
    "    : optimizer: TensorFlow optimizer function\n",
    "    : keep_probability: keep probability\n",
    "    : feature_batch: Batch of Numpy image data\n",
    "    : label_batch: Batch of Numpy label data\n",
    "    \"\"\"\n",
    "    # TODO: Implement Function\n",
    "    session.run(optimizer, feed_dict={x: feature_batch, y: label_batch, keep_prob: keep_probability})\n",
    "    \n",
    "\"\"\"\n",
    "DON'T MODIFY ANYTHING IN THIS CELL THAT IS BELOW THIS LINE\n",
    "\"\"\"\n",
    "tests.test_train_nn(train_neural_network)"
   ]
  },
  {
   "cell_type": "markdown",
   "metadata": {},
   "source": [
    "### Show Stats\n",
    "Implement the function `print_stats` to print loss and validation accuracy.  Use the global variables `valid_features` and `valid_labels` to calculate validation accuracy.  Use a keep probability of `1.0` to calculate the loss and validation accuracy."
   ]
  },
  {
   "cell_type": "code",
   "execution_count": 13,
   "metadata": {
    "collapsed": true
   },
   "outputs": [],
   "source": [
    "def print_stats(session, feature_batch, label_batch, cost, accuracy):\n",
    "    \"\"\"\n",
    "    Print information about loss and validation accuracy\n",
    "    : session: Current TensorFlow session\n",
    "    : feature_batch: Batch of Numpy image data\n",
    "    : label_batch: Batch of Numpy label data\n",
    "    : cost: TensorFlow cost function\n",
    "    : accuracy: TensorFlow accuracy function\n",
    "    \"\"\"\n",
    "    # TODO: Implement Function\n",
    "    l = session.run(cost, feed_dict={x: feature_batch, y: label_batch, keep_prob: 1.0})\n",
    "    validation_accuracy = session.run(accuracy, feed_dict={x: valid_features, y: valid_labels, keep_prob: 1.0})\n",
    "    \n",
    "    print(\"The loss is: {0}, and the Validation Accuracy is: {1}\".format(l, validation_accuracy))"
   ]
  },
  {
   "cell_type": "markdown",
   "metadata": {},
   "source": [
    "### Hyperparameters\n",
    "Tune the following parameters:\n",
    "* Set `epochs` to the number of iterations until the network stops learning or start overfitting\n",
    "* Set `batch_size` to the highest number that your machine has memory for.  Most people set them to common sizes of memory:\n",
    " * 64\n",
    " * 128\n",
    " * 256\n",
    " * ...\n",
    "* Set `keep_probability` to the probability of keeping a node using dropout"
   ]
  },
  {
   "cell_type": "code",
   "execution_count": 14,
   "metadata": {
    "collapsed": true
   },
   "outputs": [],
   "source": [
    "# TODO: Tune Parameters\n",
    "epochs = 300\n",
    "batch_size = 8192\n",
    "keep_probability = 0.5"
   ]
  },
  {
   "cell_type": "markdown",
   "metadata": {},
   "source": [
    "### Train the Model\n",
    "Now that you have your model built and your hyperparameters defined, let's train it!"
   ]
  },
  {
   "cell_type": "code",
   "execution_count": 15,
   "metadata": {},
   "outputs": [
    {
     "name": "stdout",
     "output_type": "stream",
     "text": [
      "Epoch  1:  The loss is: 2.2759814262390137, and the Validation Accuracy is: 0.12933333218097687\n",
      "Epoch  2:  The loss is: 1.9670631885528564, and the Validation Accuracy is: 0.421333372592926\n",
      "Epoch  3:  The loss is: 1.6088051795959473, and the Validation Accuracy is: 0.5205000638961792\n",
      "Epoch  4:  The loss is: 1.2881468534469604, and the Validation Accuracy is: 0.59333336353302\n",
      "Epoch  5:  The loss is: 1.0319064855575562, and the Validation Accuracy is: 0.6733334064483643\n",
      "Epoch  6:  The loss is: 0.876281201839447, and the Validation Accuracy is: 0.718999981880188\n",
      "Epoch  7:  The loss is: 0.7654889225959778, and the Validation Accuracy is: 0.7443333864212036\n",
      "Epoch  8:  The loss is: 0.6949777007102966, and the Validation Accuracy is: 0.7590000629425049\n",
      "Epoch  9:  The loss is: 0.6479952335357666, and the Validation Accuracy is: 0.768166720867157\n",
      "Epoch 10:  The loss is: 0.6192002892494202, and the Validation Accuracy is: 0.7730001211166382\n",
      "Epoch 11:  The loss is: 0.5942328572273254, and the Validation Accuracy is: 0.7741668224334717\n",
      "Epoch 12:  The loss is: 0.5768769383430481, and the Validation Accuracy is: 0.7798334360122681\n",
      "Epoch 13:  The loss is: 0.5604701042175293, and the Validation Accuracy is: 0.7871667742729187\n",
      "Epoch 14:  The loss is: 0.5474281311035156, and the Validation Accuracy is: 0.7895000576972961\n",
      "Epoch 15:  The loss is: 0.5360404849052429, and the Validation Accuracy is: 0.7951667308807373\n",
      "Epoch 16:  The loss is: 0.5234659910202026, and the Validation Accuracy is: 0.798666775226593\n",
      "Epoch 17:  The loss is: 0.5130038261413574, and the Validation Accuracy is: 0.8040000796318054\n",
      "Epoch 18:  The loss is: 0.5014735460281372, and the Validation Accuracy is: 0.8078333735466003\n",
      "Epoch 19:  The loss is: 0.4937766492366791, and the Validation Accuracy is: 0.8120000958442688\n",
      "Epoch 20:  The loss is: 0.48570311069488525, and the Validation Accuracy is: 0.8133333325386047\n",
      "Epoch 21:  The loss is: 0.477702796459198, and the Validation Accuracy is: 0.8191668391227722\n",
      "Epoch 22:  The loss is: 0.4705747663974762, and the Validation Accuracy is: 0.8220000863075256\n",
      "Epoch 23:  The loss is: 0.4635917544364929, and the Validation Accuracy is: 0.8218334317207336\n",
      "Epoch 24:  The loss is: 0.45905810594558716, and the Validation Accuracy is: 0.8285000920295715\n",
      "Epoch 25:  The loss is: 0.4525502026081085, and the Validation Accuracy is: 0.8291667103767395\n",
      "Epoch 26:  The loss is: 0.4456055164337158, and the Validation Accuracy is: 0.8351666927337646\n",
      "Epoch 27:  The loss is: 0.4399542212486267, and the Validation Accuracy is: 0.8353334665298462\n",
      "Epoch 28:  The loss is: 0.4369615912437439, and the Validation Accuracy is: 0.8380001187324524\n",
      "Epoch 29:  The loss is: 0.4303649961948395, and the Validation Accuracy is: 0.8418334126472473\n",
      "Epoch 30:  The loss is: 0.42605718970298767, and the Validation Accuracy is: 0.8426668047904968\n",
      "Epoch 31:  The loss is: 0.41987624764442444, and the Validation Accuracy is: 0.8465000987052917\n",
      "Epoch 32:  The loss is: 0.41547101736068726, and the Validation Accuracy is: 0.8475001454353333\n",
      "Epoch 33:  The loss is: 0.40965935587882996, and the Validation Accuracy is: 0.8486667275428772\n",
      "Epoch 34:  The loss is: 0.404620498418808, and the Validation Accuracy is: 0.8493334650993347\n",
      "Epoch 35:  The loss is: 0.4018586277961731, and the Validation Accuracy is: 0.8508334755897522\n",
      "Epoch 36:  The loss is: 0.3966253995895386, and the Validation Accuracy is: 0.8503333926200867\n",
      "Epoch 37:  The loss is: 0.3927171230316162, and the Validation Accuracy is: 0.8518334627151489\n",
      "Epoch 38:  The loss is: 0.3881339728832245, and the Validation Accuracy is: 0.8540000915527344\n",
      "Epoch 39:  The loss is: 0.3832140564918518, and the Validation Accuracy is: 0.8566667437553406\n",
      "Epoch 40:  The loss is: 0.38055485486984253, and the Validation Accuracy is: 0.8563333749771118\n",
      "Epoch 41:  The loss is: 0.37490126490592957, and the Validation Accuracy is: 0.8556667566299438\n",
      "Epoch 42:  The loss is: 0.3727513253688812, and the Validation Accuracy is: 0.8573334217071533\n",
      "Epoch 43:  The loss is: 0.3673756420612335, and the Validation Accuracy is: 0.8578334450721741\n",
      "Epoch 44:  The loss is: 0.3656060993671417, and the Validation Accuracy is: 0.8590000867843628\n",
      "Epoch 45:  The loss is: 0.3605564534664154, and the Validation Accuracy is: 0.8615000247955322\n",
      "Epoch 46:  The loss is: 0.3577180504798889, and the Validation Accuracy is: 0.8630000948905945\n",
      "Epoch 47:  The loss is: 0.3527448773384094, and the Validation Accuracy is: 0.8646667003631592\n",
      "Epoch 48:  The loss is: 0.3506121039390564, and the Validation Accuracy is: 0.8659999966621399\n",
      "Epoch 49:  The loss is: 0.3477879762649536, and the Validation Accuracy is: 0.8655000925064087\n",
      "Epoch 50:  The loss is: 0.34572798013687134, and the Validation Accuracy is: 0.864833414554596\n",
      "Epoch 51:  The loss is: 0.34070080518722534, and the Validation Accuracy is: 0.8681667447090149\n",
      "Epoch 52:  The loss is: 0.33882543444633484, and the Validation Accuracy is: 0.8685001134872437\n",
      "Epoch 53:  The loss is: 0.3349766731262207, and the Validation Accuracy is: 0.8710001111030579\n",
      "Epoch 54:  The loss is: 0.33259356021881104, and the Validation Accuracy is: 0.8710001111030579\n",
      "Epoch 55:  The loss is: 0.32885056734085083, and the Validation Accuracy is: 0.8721668124198914\n",
      "Epoch 56:  The loss is: 0.32578909397125244, and the Validation Accuracy is: 0.8735000491142273\n",
      "Epoch 57:  The loss is: 0.3251599073410034, and the Validation Accuracy is: 0.87416672706604\n",
      "Epoch 58:  The loss is: 0.3219678997993469, and the Validation Accuracy is: 0.8726667761802673\n",
      "Epoch 59:  The loss is: 0.31927192211151123, and the Validation Accuracy is: 0.8735001087188721\n",
      "Epoch 60:  The loss is: 0.3165952265262604, and the Validation Accuracy is: 0.876333475112915\n",
      "Epoch 61:  The loss is: 0.31386300921440125, and the Validation Accuracy is: 0.8766668438911438\n",
      "Epoch 62:  The loss is: 0.31071558594703674, and the Validation Accuracy is: 0.8758333921432495\n",
      "Epoch 63:  The loss is: 0.30932721495628357, and the Validation Accuracy is: 0.8780001401901245\n",
      "Epoch 64:  The loss is: 0.307111918926239, and the Validation Accuracy is: 0.8776667714118958\n",
      "Epoch 65:  The loss is: 0.30519771575927734, and the Validation Accuracy is: 0.8771666884422302\n",
      "Epoch 66:  The loss is: 0.30267074704170227, and the Validation Accuracy is: 0.8790000677108765\n",
      "Epoch 67:  The loss is: 0.30079612135887146, and the Validation Accuracy is: 0.8793334364891052\n",
      "Epoch 68:  The loss is: 0.2989683449268341, and the Validation Accuracy is: 0.8780000805854797\n",
      "Epoch 69:  The loss is: 0.29534289240837097, and the Validation Accuracy is: 0.8781667351722717\n",
      "Epoch 70:  The loss is: 0.29315900802612305, and the Validation Accuracy is: 0.8781667351722717\n",
      "Epoch 71:  The loss is: 0.2919462323188782, and the Validation Accuracy is: 0.8811666965484619\n",
      "Epoch 72:  The loss is: 0.2885779142379761, and the Validation Accuracy is: 0.8823333978652954\n",
      "Epoch 73:  The loss is: 0.2879312336444855, and the Validation Accuracy is: 0.8823333978652954\n",
      "Epoch 74:  The loss is: 0.2853393256664276, and the Validation Accuracy is: 0.8823333382606506\n",
      "Epoch 75:  The loss is: 0.28229671716690063, and the Validation Accuracy is: 0.8825001120567322\n",
      "Epoch 76:  The loss is: 0.28311827778816223, and the Validation Accuracy is: 0.8850001096725464\n",
      "Epoch 77:  The loss is: 0.27966585755348206, and the Validation Accuracy is: 0.8826667070388794\n",
      "Epoch 78:  The loss is: 0.28015604615211487, and the Validation Accuracy is: 0.8825000524520874\n",
      "Epoch 79:  The loss is: 0.27666813135147095, and the Validation Accuracy is: 0.8865001201629639\n",
      "Epoch 80:  The loss is: 0.27660900354385376, and the Validation Accuracy is: 0.8828333616256714\n",
      "Epoch 81:  The loss is: 0.2739826738834381, and the Validation Accuracy is: 0.8848334550857544\n",
      "Epoch 82:  The loss is: 0.2724648714065552, and the Validation Accuracy is: 0.8856667280197144\n",
      "Epoch 83:  The loss is: 0.2701212167739868, and the Validation Accuracy is: 0.8848333954811096\n",
      "Epoch 84:  The loss is: 0.2705349326133728, and the Validation Accuracy is: 0.8861668109893799\n",
      "Epoch 85:  The loss is: 0.2683892846107483, and the Validation Accuracy is: 0.8836667537689209\n",
      "Epoch 86:  The loss is: 0.2648462951183319, and the Validation Accuracy is: 0.8851667642593384\n",
      "Epoch 87:  The loss is: 0.2654486894607544, and the Validation Accuracy is: 0.8866667151451111\n"
     ]
    },
    {
     "name": "stdout",
     "output_type": "stream",
     "text": [
      "Epoch 88:  The loss is: 0.2614542245864868, and the Validation Accuracy is: 0.8855000734329224\n",
      "Epoch 89:  The loss is: 0.26215997338294983, and the Validation Accuracy is: 0.8860000371932983\n",
      "Epoch 90:  The loss is: 0.260347843170166, and the Validation Accuracy is: 0.8871666789054871\n",
      "Epoch 91:  The loss is: 0.2590537965297699, and the Validation Accuracy is: 0.8858333826065063\n",
      "Epoch 92:  The loss is: 0.25736361742019653, and the Validation Accuracy is: 0.8858334422111511\n",
      "Epoch 93:  The loss is: 0.256206750869751, and the Validation Accuracy is: 0.8878334164619446\n",
      "Epoch 94:  The loss is: 0.2530413568019867, and the Validation Accuracy is: 0.8903334140777588\n",
      "Epoch 95:  The loss is: 0.2531353533267975, and the Validation Accuracy is: 0.8893333673477173\n",
      "Epoch 96:  The loss is: 0.2495633214712143, and the Validation Accuracy is: 0.8888334035873413\n",
      "Epoch 97:  The loss is: 0.2515629231929779, and the Validation Accuracy is: 0.8891667723655701\n",
      "Epoch 98:  The loss is: 0.24908940494060516, and the Validation Accuracy is: 0.8890001177787781\n",
      "Epoch 99:  The loss is: 0.24722345173358917, and the Validation Accuracy is: 0.8910000920295715\n",
      "Epoch 100:  The loss is: 0.2456369251012802, and the Validation Accuracy is: 0.8905000686645508\n",
      "Epoch 101:  The loss is: 0.24650496244430542, and the Validation Accuracy is: 0.8916667699813843\n",
      "Epoch 102:  The loss is: 0.2430095672607422, and the Validation Accuracy is: 0.8906667232513428\n",
      "Epoch 103:  The loss is: 0.24135755002498627, and the Validation Accuracy is: 0.8921667337417603\n",
      "Epoch 104:  The loss is: 0.24014165997505188, and the Validation Accuracy is: 0.8935001492500305\n",
      "Epoch 105:  The loss is: 0.23884040117263794, and the Validation Accuracy is: 0.8916667103767395\n",
      "Epoch 106:  The loss is: 0.23806017637252808, and the Validation Accuracy is: 0.8943333625793457\n",
      "Epoch 107:  The loss is: 0.237371563911438, and the Validation Accuracy is: 0.893000066280365\n",
      "Epoch 108:  The loss is: 0.23604527115821838, and the Validation Accuracy is: 0.893500030040741\n",
      "Epoch 109:  The loss is: 0.23293794691562653, and the Validation Accuracy is: 0.8941667675971985\n",
      "Epoch 110:  The loss is: 0.2328968346118927, and the Validation Accuracy is: 0.8945000171661377\n",
      "Epoch 111:  The loss is: 0.23181574046611786, and the Validation Accuracy is: 0.8946667313575745\n",
      "Epoch 112:  The loss is: 0.23266412317752838, and the Validation Accuracy is: 0.8951667547225952\n",
      "Epoch 113:  The loss is: 0.23067401349544525, and the Validation Accuracy is: 0.8946667313575745\n",
      "Epoch 114:  The loss is: 0.23072849214076996, and the Validation Accuracy is: 0.8943334221839905\n",
      "Epoch 115:  The loss is: 0.22612668573856354, and the Validation Accuracy is: 0.8956667184829712\n",
      "Epoch 116:  The loss is: 0.22755150496959686, and the Validation Accuracy is: 0.8966667652130127\n",
      "Epoch 117:  The loss is: 0.22610335052013397, and the Validation Accuracy is: 0.8961666822433472\n",
      "Epoch 118:  The loss is: 0.22346711158752441, and the Validation Accuracy is: 0.8956667184829712\n",
      "Epoch 119:  The loss is: 0.2228582352399826, and the Validation Accuracy is: 0.8975000381469727\n",
      "Epoch 120:  The loss is: 0.22175776958465576, and the Validation Accuracy is: 0.8980000615119934\n",
      "Epoch 121:  The loss is: 0.22161388397216797, and the Validation Accuracy is: 0.8961666822433472\n",
      "Epoch 122:  The loss is: 0.2191980481147766, and the Validation Accuracy is: 0.8970000743865967\n",
      "Epoch 123:  The loss is: 0.21914944052696228, and the Validation Accuracy is: 0.8985001444816589\n",
      "Epoch 124:  The loss is: 0.22016094624996185, and the Validation Accuracy is: 0.8959999680519104\n",
      "Epoch 125:  The loss is: 0.21811112761497498, and the Validation Accuracy is: 0.8950001001358032\n",
      "Epoch 126:  The loss is: 0.21534962952136993, and the Validation Accuracy is: 0.8980000615119934\n",
      "Epoch 127:  The loss is: 0.21440422534942627, and the Validation Accuracy is: 0.8968334197998047\n",
      "Epoch 128:  The loss is: 0.21447394788265228, and the Validation Accuracy is: 0.8980000615119934\n",
      "Epoch 129:  The loss is: 0.21140658855438232, and the Validation Accuracy is: 0.8966667056083679\n",
      "Epoch 130:  The loss is: 0.21053621172904968, and the Validation Accuracy is: 0.8986667394638062\n",
      "Epoch 131:  The loss is: 0.21092480421066284, and the Validation Accuracy is: 0.8985000848770142\n",
      "Epoch 132:  The loss is: 0.20914234220981598, and the Validation Accuracy is: 0.8983333706855774\n",
      "Epoch 133:  The loss is: 0.20787574350833893, and the Validation Accuracy is: 0.8980000019073486\n",
      "Epoch 134:  The loss is: 0.20711694657802582, and the Validation Accuracy is: 0.8976666927337646\n",
      "Epoch 135:  The loss is: 0.2076282650232315, and the Validation Accuracy is: 0.8993334174156189\n",
      "Epoch 136:  The loss is: 0.2066115289926529, and the Validation Accuracy is: 0.8995000123977661\n",
      "Epoch 137:  The loss is: 0.2047038972377777, and the Validation Accuracy is: 0.8991667628288269\n",
      "Epoch 138:  The loss is: 0.20434005558490753, and the Validation Accuracy is: 0.8980001211166382\n",
      "Epoch 139:  The loss is: 0.20327423512935638, and the Validation Accuracy is: 0.9011667370796204\n",
      "Epoch 140:  The loss is: 0.2039238065481186, and the Validation Accuracy is: 0.8986667990684509\n",
      "Epoch 141:  The loss is: 0.20437325537204742, and the Validation Accuracy is: 0.8976667523384094\n",
      "Epoch 142:  The loss is: 0.20087997615337372, and the Validation Accuracy is: 0.8985000848770142\n",
      "Epoch 143:  The loss is: 0.19885817170143127, and the Validation Accuracy is: 0.9006667733192444\n",
      "Epoch 144:  The loss is: 0.19779491424560547, and the Validation Accuracy is: 0.9016667604446411\n",
      "Epoch 145:  The loss is: 0.1986965537071228, and the Validation Accuracy is: 0.9018334746360779\n",
      "Epoch 146:  The loss is: 0.1980358213186264, and the Validation Accuracy is: 0.9023333787918091\n",
      "Epoch 147:  The loss is: 0.19668622314929962, and the Validation Accuracy is: 0.9023334383964539\n",
      "Epoch 148:  The loss is: 0.19716714322566986, and the Validation Accuracy is: 0.9020001292228699\n",
      "Epoch 149:  The loss is: 0.19590945541858673, and the Validation Accuracy is: 0.9030001163482666\n",
      "Epoch 150:  The loss is: 0.19396567344665527, and the Validation Accuracy is: 0.9013333916664124\n",
      "Epoch 151:  The loss is: 0.198578879237175, and the Validation Accuracy is: 0.9028334021568298\n",
      "Epoch 152:  The loss is: 0.1947946697473526, and the Validation Accuracy is: 0.9016667604446411\n",
      "Epoch 153:  The loss is: 0.19436347484588623, and the Validation Accuracy is: 0.9025000333786011\n",
      "Epoch 154:  The loss is: 0.19110095500946045, and the Validation Accuracy is: 0.9025001525878906\n",
      "Epoch 155:  The loss is: 0.19452419877052307, and the Validation Accuracy is: 0.9033334255218506\n",
      "Epoch 156:  The loss is: 0.18775121867656708, and the Validation Accuracy is: 0.9035000801086426\n",
      "Epoch 157:  The loss is: 0.1891418993473053, and the Validation Accuracy is: 0.9025001525878906\n",
      "Epoch 158:  The loss is: 0.18758034706115723, and the Validation Accuracy is: 0.9035000801086426\n",
      "Epoch 159:  The loss is: 0.1869603544473648, and the Validation Accuracy is: 0.9036667346954346\n",
      "Epoch 160:  The loss is: 0.1888400912284851, and the Validation Accuracy is: 0.9035000801086426\n",
      "Epoch 161:  The loss is: 0.18641947209835052, and the Validation Accuracy is: 0.9020000696182251\n",
      "Epoch 162:  The loss is: 0.1853826642036438, and the Validation Accuracy is: 0.9031667709350586\n",
      "Epoch 163:  The loss is: 0.1847158819437027, and the Validation Accuracy is: 0.9046667814254761\n",
      "Epoch 164:  The loss is: 0.18239128589630127, and the Validation Accuracy is: 0.9043334126472473\n",
      "Epoch 165:  The loss is: 0.18315428495407104, and the Validation Accuracy is: 0.905166745185852\n",
      "Epoch 166:  The loss is: 0.18225035071372986, and the Validation Accuracy is: 0.9031667709350586\n",
      "Epoch 167:  The loss is: 0.18159866333007812, and the Validation Accuracy is: 0.9050000309944153\n",
      "Epoch 168:  The loss is: 0.18241411447525024, and the Validation Accuracy is: 0.9031667113304138\n",
      "Epoch 169:  The loss is: 0.1811782866716385, and the Validation Accuracy is: 0.9040000438690186\n",
      "Epoch 170:  The loss is: 0.18172411620616913, and the Validation Accuracy is: 0.9041667580604553\n",
      "Epoch 171:  The loss is: 0.17927107214927673, and the Validation Accuracy is: 0.9040000438690186\n",
      "Epoch 172:  The loss is: 0.17872126400470734, and the Validation Accuracy is: 0.9036667943000793\n"
     ]
    },
    {
     "name": "stdout",
     "output_type": "stream",
     "text": [
      "Epoch 173:  The loss is: 0.1777101457118988, and the Validation Accuracy is: 0.9048334360122681\n",
      "Epoch 174:  The loss is: 0.17570102214813232, and the Validation Accuracy is: 0.9041667580604553\n",
      "Epoch 175:  The loss is: 0.17470881342887878, and the Validation Accuracy is: 0.9056667685508728\n",
      "Epoch 176:  The loss is: 0.17508435249328613, and the Validation Accuracy is: 0.9028334617614746\n",
      "Epoch 177:  The loss is: 0.1743019074201584, and the Validation Accuracy is: 0.9045000076293945\n",
      "Epoch 178:  The loss is: 0.1752268224954605, and the Validation Accuracy is: 0.905166745185852\n",
      "Epoch 179:  The loss is: 0.17220032215118408, and the Validation Accuracy is: 0.9048334360122681\n",
      "Epoch 180:  The loss is: 0.17353162169456482, and the Validation Accuracy is: 0.9056667685508728\n",
      "Epoch 181:  The loss is: 0.17365695536136627, and the Validation Accuracy is: 0.9040001630783081\n",
      "Epoch 182:  The loss is: 0.17401070892810822, and the Validation Accuracy is: 0.9048334360122681\n",
      "Epoch 183:  The loss is: 0.17069770395755768, and the Validation Accuracy is: 0.9050000905990601\n",
      "Epoch 184:  The loss is: 0.1729862242937088, and the Validation Accuracy is: 0.9051666855812073\n",
      "Epoch 185:  The loss is: 0.16915401816368103, and the Validation Accuracy is: 0.9071667790412903\n",
      "Epoch 186:  The loss is: 0.1700807511806488, and the Validation Accuracy is: 0.9056668281555176\n",
      "Epoch 187:  The loss is: 0.16899316012859344, and the Validation Accuracy is: 0.9048333764076233\n",
      "Epoch 188:  The loss is: 0.16672644019126892, and the Validation Accuracy is: 0.906333327293396\n",
      "Epoch 189:  The loss is: 0.16776713728904724, and the Validation Accuracy is: 0.9071667790412903\n",
      "Epoch 190:  The loss is: 0.16620779037475586, and the Validation Accuracy is: 0.9078333973884583\n",
      "Epoch 191:  The loss is: 0.16592000424861908, and the Validation Accuracy is: 0.9063333868980408\n",
      "Epoch 192:  The loss is: 0.16542832553386688, and the Validation Accuracy is: 0.9073333740234375\n",
      "Epoch 193:  The loss is: 0.1628974974155426, and the Validation Accuracy is: 0.905166745185852\n",
      "Epoch 194:  The loss is: 0.1646927297115326, and the Validation Accuracy is: 0.9073334336280823\n",
      "Epoch 195:  The loss is: 0.16231416165828705, and the Validation Accuracy is: 0.9065001010894775\n",
      "Epoch 196:  The loss is: 0.16286104917526245, and the Validation Accuracy is: 0.9068334102630615\n",
      "Epoch 197:  The loss is: 0.16354714334011078, and the Validation Accuracy is: 0.9050000905990601\n",
      "Epoch 198:  The loss is: 0.1600588858127594, and the Validation Accuracy is: 0.9066666960716248\n",
      "Epoch 199:  The loss is: 0.16144031286239624, and the Validation Accuracy is: 0.9056667685508728\n",
      "Epoch 200:  The loss is: 0.16115114092826843, and the Validation Accuracy is: 0.9051668047904968\n",
      "Epoch 201:  The loss is: 0.1593661904335022, and the Validation Accuracy is: 0.9066667556762695\n",
      "Epoch 202:  The loss is: 0.15929192304611206, and the Validation Accuracy is: 0.9090000987052917\n",
      "Epoch 203:  The loss is: 0.15695305168628693, and the Validation Accuracy is: 0.9070000648498535\n",
      "Epoch 204:  The loss is: 0.15524142980575562, and the Validation Accuracy is: 0.9075000286102295\n",
      "Epoch 205:  The loss is: 0.15613844990730286, and the Validation Accuracy is: 0.9088334441184998\n",
      "Epoch 206:  The loss is: 0.1558108776807785, and the Validation Accuracy is: 0.9066667556762695\n",
      "Epoch 207:  The loss is: 0.15668116509914398, and the Validation Accuracy is: 0.9071667194366455\n",
      "Epoch 208:  The loss is: 0.1555153727531433, and the Validation Accuracy is: 0.908000111579895\n",
      "Epoch 209:  The loss is: 0.15719875693321228, and the Validation Accuracy is: 0.9065000414848328\n",
      "Epoch 210:  The loss is: 0.15664371848106384, and the Validation Accuracy is: 0.9063333868980408\n",
      "Epoch 211:  The loss is: 0.15485543012619019, and the Validation Accuracy is: 0.907666802406311\n",
      "Epoch 212:  The loss is: 0.15852712094783783, and the Validation Accuracy is: 0.9066666960716248\n",
      "Epoch 213:  The loss is: 0.15622837841510773, and the Validation Accuracy is: 0.908666729927063\n",
      "Epoch 214:  The loss is: 0.15561088919639587, and the Validation Accuracy is: 0.9068334698677063\n",
      "Epoch 215:  The loss is: 0.15165920555591583, and the Validation Accuracy is: 0.9091667532920837\n",
      "Epoch 216:  The loss is: 0.1511560082435608, and the Validation Accuracy is: 0.908000111579895\n",
      "Epoch 217:  The loss is: 0.15223047137260437, and the Validation Accuracy is: 0.909333348274231\n",
      "Epoch 218:  The loss is: 0.15198424458503723, and the Validation Accuracy is: 0.9075000882148743\n",
      "Epoch 219:  The loss is: 0.15181733667850494, and the Validation Accuracy is: 0.908666729927063\n",
      "Epoch 220:  The loss is: 0.14651986956596375, and the Validation Accuracy is: 0.908833384513855\n",
      "Epoch 221:  The loss is: 0.14762994647026062, and the Validation Accuracy is: 0.9075000286102295\n",
      "Epoch 222:  The loss is: 0.145668625831604, and the Validation Accuracy is: 0.9075000286102295\n",
      "Epoch 223:  The loss is: 0.14674367010593414, and the Validation Accuracy is: 0.908833384513855\n",
      "Epoch 224:  The loss is: 0.1483430415391922, and the Validation Accuracy is: 0.908833384513855\n",
      "Epoch 225:  The loss is: 0.14699405431747437, and the Validation Accuracy is: 0.9061667323112488\n",
      "Epoch 226:  The loss is: 0.14775502681732178, and the Validation Accuracy is: 0.908333420753479\n",
      "Epoch 227:  The loss is: 0.14665186405181885, and the Validation Accuracy is: 0.909000039100647\n",
      "Epoch 228:  The loss is: 0.1468658745288849, and the Validation Accuracy is: 0.908833384513855\n",
      "Epoch 229:  The loss is: 0.14508101344108582, and the Validation Accuracy is: 0.9096667766571045\n",
      "Epoch 230:  The loss is: 0.14637728035449982, and the Validation Accuracy is: 0.908500075340271\n",
      "Epoch 231:  The loss is: 0.14461258053779602, and the Validation Accuracy is: 0.908666729927063\n",
      "Epoch 232:  The loss is: 0.14526191353797913, and the Validation Accuracy is: 0.908333420753479\n",
      "Epoch 233:  The loss is: 0.14523553848266602, and the Validation Accuracy is: 0.9080000519752502\n",
      "Epoch 234:  The loss is: 0.14393019676208496, and the Validation Accuracy is: 0.908166766166687\n",
      "Epoch 235:  The loss is: 0.14177660644054413, and the Validation Accuracy is: 0.9103333950042725\n",
      "Epoch 236:  The loss is: 0.1406160444021225, and the Validation Accuracy is: 0.9110000729560852\n",
      "Epoch 237:  The loss is: 0.14192207157611847, and the Validation Accuracy is: 0.908500075340271\n",
      "Epoch 238:  The loss is: 0.14168237149715424, and the Validation Accuracy is: 0.9091667532920837\n",
      "Epoch 239:  The loss is: 0.14148035645484924, and the Validation Accuracy is: 0.9078333377838135\n",
      "Epoch 240:  The loss is: 0.1393461674451828, and the Validation Accuracy is: 0.909000039100647\n",
      "Epoch 241:  The loss is: 0.13767807185649872, and the Validation Accuracy is: 0.908333420753479\n",
      "Epoch 242:  The loss is: 0.1417998969554901, and the Validation Accuracy is: 0.910833477973938\n",
      "Epoch 243:  The loss is: 0.1397521197795868, and the Validation Accuracy is: 0.9091667532920837\n",
      "Epoch 244:  The loss is: 0.13826020061969757, and the Validation Accuracy is: 0.908500075340271\n",
      "Epoch 245:  The loss is: 0.13726180791854858, and the Validation Accuracy is: 0.908500075340271\n",
      "Epoch 246:  The loss is: 0.13842536509037018, and the Validation Accuracy is: 0.9083333611488342\n",
      "Epoch 247:  The loss is: 0.1363830417394638, and the Validation Accuracy is: 0.9090000987052917\n",
      "Epoch 248:  The loss is: 0.1376868039369583, and the Validation Accuracy is: 0.908500075340271\n",
      "Epoch 249:  The loss is: 0.13649073243141174, and the Validation Accuracy is: 0.9098334312438965\n",
      "Epoch 250:  The loss is: 0.13502469658851624, and the Validation Accuracy is: 0.9091667532920837\n",
      "Epoch 251:  The loss is: 0.13378088176250458, and the Validation Accuracy is: 0.9098334312438965\n",
      "Epoch 252:  The loss is: 0.13312694430351257, and the Validation Accuracy is: 0.9096667170524597\n",
      "Epoch 253:  The loss is: 0.13343825936317444, and the Validation Accuracy is: 0.9106667041778564\n",
      "Epoch 254:  The loss is: 0.13430553674697876, and the Validation Accuracy is: 0.9100001454353333\n",
      "Epoch 255:  The loss is: 0.13341103494167328, and the Validation Accuracy is: 0.908500075340271\n",
      "Epoch 256:  The loss is: 0.13319718837738037, and the Validation Accuracy is: 0.9088334441184998\n",
      "Epoch 257:  The loss is: 0.13120675086975098, and the Validation Accuracy is: 0.9096667170524597\n"
     ]
    },
    {
     "name": "stdout",
     "output_type": "stream",
     "text": [
      "Epoch 258:  The loss is: 0.1317705512046814, and the Validation Accuracy is: 0.908666729927063\n",
      "Epoch 259:  The loss is: 0.13223987817764282, and the Validation Accuracy is: 0.908666729927063\n",
      "Epoch 260:  The loss is: 0.13033737242221832, and the Validation Accuracy is: 0.908333420753479\n",
      "Epoch 261:  The loss is: 0.1315363645553589, and the Validation Accuracy is: 0.9071667194366455\n",
      "Epoch 262:  The loss is: 0.13018657267093658, and the Validation Accuracy is: 0.9103333950042725\n",
      "Epoch 263:  The loss is: 0.12820138037204742, and the Validation Accuracy is: 0.9106666445732117\n",
      "Epoch 264:  The loss is: 0.13094072043895721, and the Validation Accuracy is: 0.9098334312438965\n",
      "Epoch 265:  The loss is: 0.1306775063276291, and the Validation Accuracy is: 0.9085001349449158\n",
      "Epoch 266:  The loss is: 0.12886856496334076, and the Validation Accuracy is: 0.9106667637825012\n",
      "Epoch 267:  The loss is: 0.12845726311206818, and the Validation Accuracy is: 0.9111667275428772\n",
      "Epoch 268:  The loss is: 0.1255285143852234, and the Validation Accuracy is: 0.9108334183692932\n",
      "Epoch 269:  The loss is: 0.1257009506225586, and the Validation Accuracy is: 0.911500096321106\n",
      "Epoch 270:  The loss is: 0.12669670581817627, and the Validation Accuracy is: 0.9088333249092102\n",
      "Epoch 271:  The loss is: 0.12311049550771713, and the Validation Accuracy is: 0.910500168800354\n",
      "Epoch 272:  The loss is: 0.12429563701152802, and the Validation Accuracy is: 0.9120001196861267\n",
      "Epoch 273:  The loss is: 0.12282215803861618, and the Validation Accuracy is: 0.9098334312438965\n",
      "Epoch 274:  The loss is: 0.12399549037218094, and the Validation Accuracy is: 0.9096667766571045\n",
      "Epoch 275:  The loss is: 0.12668730318546295, and the Validation Accuracy is: 0.9110000133514404\n",
      "Epoch 276:  The loss is: 0.12338786572217941, and the Validation Accuracy is: 0.9103333950042725\n",
      "Epoch 277:  The loss is: 0.12356961518526077, and the Validation Accuracy is: 0.9105001091957092\n",
      "Epoch 278:  The loss is: 0.12389740347862244, and the Validation Accuracy is: 0.911166787147522\n",
      "Epoch 279:  The loss is: 0.1218426376581192, and the Validation Accuracy is: 0.9090000987052917\n",
      "Epoch 280:  The loss is: 0.12285943329334259, and the Validation Accuracy is: 0.9095001220703125\n",
      "Epoch 281:  The loss is: 0.12362465262413025, and the Validation Accuracy is: 0.9103333950042725\n",
      "Epoch 282:  The loss is: 0.12058058381080627, and the Validation Accuracy is: 0.9113335013389587\n",
      "Epoch 283:  The loss is: 0.12038787454366684, and the Validation Accuracy is: 0.9075000882148743\n",
      "Epoch 284:  The loss is: 0.1202496662735939, and the Validation Accuracy is: 0.9118334054946899\n",
      "Epoch 285:  The loss is: 0.11880262941122055, and the Validation Accuracy is: 0.9095000624656677\n",
      "Epoch 286:  The loss is: 0.11874443292617798, and the Validation Accuracy is: 0.911500096321106\n",
      "Epoch 287:  The loss is: 0.11622073501348495, and the Validation Accuracy is: 0.9105000495910645\n",
      "Epoch 288:  The loss is: 0.11779461055994034, and the Validation Accuracy is: 0.9090001583099365\n",
      "Epoch 289:  The loss is: 0.11784172058105469, and the Validation Accuracy is: 0.9126666784286499\n",
      "Epoch 290:  The loss is: 0.11738919466733932, and the Validation Accuracy is: 0.911500096321106\n",
      "Epoch 291:  The loss is: 0.11674193292856216, and the Validation Accuracy is: 0.9105000495910645\n",
      "Epoch 292:  The loss is: 0.11968140304088593, and the Validation Accuracy is: 0.9098334312438965\n",
      "Epoch 293:  The loss is: 0.11749199032783508, and the Validation Accuracy is: 0.9095000624656677\n",
      "Epoch 294:  The loss is: 0.11784536391496658, and the Validation Accuracy is: 0.9106667637825012\n",
      "Epoch 295:  The loss is: 0.1167854368686676, and the Validation Accuracy is: 0.9108334183692932\n",
      "Epoch 296:  The loss is: 0.11549118161201477, and the Validation Accuracy is: 0.911333441734314\n",
      "Epoch 297:  The loss is: 0.11593935638666153, and the Validation Accuracy is: 0.9098334908485413\n",
      "Epoch 298:  The loss is: 0.11548174172639847, and the Validation Accuracy is: 0.9096667766571045\n",
      "Epoch 299:  The loss is: 0.11608345806598663, and the Validation Accuracy is: 0.9103334546089172\n",
      "Epoch 300:  The loss is: 0.1179729625582695, and the Validation Accuracy is: 0.9108334183692932\n"
     ]
    }
   ],
   "source": [
    "\"\"\"\n",
    "DON'T MODIFY ANYTHING IN THIS CELL\n",
    "\"\"\"\n",
    "save_model_path = './image_classification'\n",
    "\n",
    "with tf.Session() as sess:\n",
    "    # Initializing the variables\n",
    "    sess.run(tf.global_variables_initializer())\n",
    "    \n",
    "    # Training cycle\n",
    "    for epoch in range(epochs):\n",
    "        for batch_features, batch_labels in helper.load_preprocess_training_batch(batch_size):\n",
    "            train_neural_network(sess, optimizer, keep_probability, batch_features, batch_labels)\n",
    "        print('Epoch {:>2}:  '.format(epoch + 1), end='')\n",
    "        print_stats(sess, batch_features, batch_labels, cost, accuracy)\n",
    "            \n",
    "    # Save Model\n",
    "    saver = tf.train.Saver()\n",
    "    save_path = saver.save(sess, save_model_path)"
   ]
  },
  {
   "cell_type": "markdown",
   "metadata": {},
   "source": [
    "# Checkpoint\n",
    "The model has been saved to disk.\n",
    "## Test Model\n",
    "Test your model against the test dataset.  This will be your final accuracy. You should have an accuracy greater than 50%. If you don't, keep tweaking the model architecture and parameters."
   ]
  },
  {
   "cell_type": "code",
   "execution_count": 16,
   "metadata": {},
   "outputs": [
    {
     "name": "stdout",
     "output_type": "stream",
     "text": [
      "INFO:tensorflow:Restoring parameters from ./image_classification\n",
      "Testing Accuracy: 0.9077596664428711\n",
      "\n"
     ]
    },
    {
     "data": {
      "image/png": "[encoded data removed]",
      "text/plain": [
       "<matplotlib.figure.Figure at 0x7f86155f1cc0>"
      ]
     },
     "metadata": {
      "image/png": {
       "height": 319,
       "width": 349
      }
     },
     "output_type": "display_data"
    }
   ],
   "source": [
    "\"\"\"\n",
    "DON'T MODIFY ANYTHING IN THIS CELL\n",
    "\"\"\"\n",
    "%matplotlib inline\n",
    "%config InlineBackend.figure_format = 'retina'\n",
    "\n",
    "import tensorflow as tf\n",
    "import pickle\n",
    "import helper\n",
    "import random\n",
    "\n",
    "\n",
    "save_model_path = './image_classification'\n",
    "n_samples = 4\n",
    "top_n_predictions = 3\n",
    "\n",
    "def test_model():\n",
    "    \"\"\"\n",
    "    Test the saved model against the test dataset\n",
    "    \"\"\"\n",
    "\n",
    "    test_features, test_labels = pickle.load(open('preprocess_test.p', mode='rb'))\n",
    "    loaded_graph = tf.Graph()\n",
    "    \n",
    "    config = tf.ConfigProto(device_count = {'GPU': 0})\n",
    "\n",
    "    with tf.Session(config=config, graph=loaded_graph) as sess:\n",
    "        # Load model\n",
    "        loader = tf.train.import_meta_graph(save_model_path + '.meta')\n",
    "        loader.restore(sess, save_model_path)\n",
    "\n",
    "        # Get Tensors from loaded model\n",
    "        loaded_x = loaded_graph.get_tensor_by_name('x:0')\n",
    "        loaded_y = loaded_graph.get_tensor_by_name('y:0')\n",
    "        loaded_keep_prob = loaded_graph.get_tensor_by_name('keep_prob:0')\n",
    "        loaded_logits = loaded_graph.get_tensor_by_name('logits:0')\n",
    "        loaded_acc = loaded_graph.get_tensor_by_name('accuracy:0')\n",
    "        \n",
    "        # Get accuracy in batches for memory limitations\n",
    "        test_batch_acc_total = 0\n",
    "        test_batch_count = 0\n",
    "        \n",
    "        for test_feature_batch, test_label_batch in helper.batch_features_labels(test_features, test_labels, batch_size):\n",
    "            test_batch_acc_total += sess.run(\n",
    "                loaded_acc,\n",
    "                feed_dict={loaded_x: test_feature_batch, loaded_y: test_label_batch, loaded_keep_prob: 1.0})\n",
    "            test_batch_count += 1\n",
    "\n",
    "        print('Testing Accuracy: {}\\n'.format(test_batch_acc_total/test_batch_count))\n",
    "\n",
    "        # Print Random Samples\n",
    "        random_test_features, random_test_labels = tuple(zip(*random.sample(list(zip(test_features, test_labels)), n_samples)))\n",
    "        random_test_predictions = sess.run(\n",
    "            tf.nn.top_k(tf.nn.softmax(loaded_logits), top_n_predictions),\n",
    "            feed_dict={loaded_x: random_test_features, loaded_y: random_test_labels, loaded_keep_prob: 1.0})\n",
    "        helper.display_image_predictions(random_test_features, random_test_labels, random_test_predictions)\n",
    "\n",
    "\n",
    "test_model()"
   ]
  },
  {
   "cell_type": "code",
   "execution_count": null,
   "metadata": {
    "collapsed": true
   },
   "outputs": [],
   "source": []
  }
 ],
 "metadata": {
  "kernelspec": {
   "display_name": "Python 3",
   "language": "python",
   "name": "python3"
  },
  "language_info": {
   "codemirror_mode": {
    "name": "ipython",
    "version": 3
   },
   "file_extension": ".py",
   "mimetype": "text/x-python",
   "name": "python",
   "nbconvert_exporter": "python",
   "pygments_lexer": "ipython3",
   "version": "3.5.2"
  },
  "widgets": {
   "state": {},
   "version": "1.1.2"
  }
 },
 "nbformat": 4,
 "nbformat_minor": 1
}
